{
 "cells": [
  {
   "cell_type": "markdown",
   "metadata": {},
   "source": [
    "#### get_matrix"
   ]
  },
  {
   "cell_type": "code",
   "execution_count": 2,
   "metadata": {
    "collapsed": true
   },
   "outputs": [],
   "source": [
    "import pandas as pd\n",
    "import numpy as np\n",
    "\n",
    "\n",
    "def get_matrix(nb_colors, requests, profile=False):\n",
    "    requests = requests.split('\\n')\n",
    "    \n",
    "    matte_wanted = np.zeros((len(requests), nb_colors))\n",
    "    colors_wanted = np.zeros((len(requests), nb_colors))\n",
    "    pcount = 0\n",
    "\n",
    "    for client, line in enumerate(requests):\n",
    "        pcount += 1\n",
    "        data = line.split()\n",
    "        if len(data)%2 != 0:\n",
    "            raise ValueError('No solution exists')\n",
    "        \n",
    "        for i in range(0, len(data), 2):\n",
    "            pcount += 1\n",
    "            try:\n",
    "                color, sheen = int(data[i]), data[i+1]\n",
    "            except:\n",
    "                raise ValueError('No solution exists')\n",
    "            \n",
    "            #print('Adding {} to matte_wanted[{}][{}]'.format(sheen=='M', client, color))\n",
    "            matte_wanted[client][color-1] = sheen == 'M'\n",
    "            #print('Adding 1 to colors_wanted[{}][{}]'.format(client, color))\n",
    "            colors_wanted[client][color-1] = 1\n",
    "    \n",
    "    if profile:\n",
    "        return matte_wanted, colors_wanted, pcount\n",
    "    else:\n",
    "        matte_wanted = pd.DataFrame(matte_wanted, columns=range(nb_colors))\n",
    "        colors_wanted = pd.DataFrame(colors_wanted, columns=range(nb_colors))\n",
    "        return matte_wanted, colors_wanted"
   ]
  },
  {
   "cell_type": "markdown",
   "metadata": {
    "heading_collapsed": true
   },
   "source": [
    "#### Create matrices"
   ]
  },
  {
   "cell_type": "code",
   "execution_count": null,
   "metadata": {
    "collapsed": false,
    "hidden": true
   },
   "outputs": [],
   "source": [
    "nb_colors = 5\n",
    "requests = '''1 M 3 G 5 G\n",
    "5 M\n",
    "2 G 3 M 4 G\n",
    "3 G'''\n",
    "matte, colors = get_matrix(nb_colors, requests)\n",
    "matte = pd.DataFrame(matte, columns=range(nb_colors))\n",
    "colors = pd.DataFrame(colors, columns=range(nb_colors))\n",
    "matte\n",
    "colors"
   ]
  },
  {
   "cell_type": "markdown",
   "metadata": {
    "heading_collapsed": true
   },
   "source": [
    "#### Create batch & satisfied vectors"
   ]
  },
  {
   "cell_type": "code",
   "execution_count": null,
   "metadata": {
    "collapsed": true,
    "hidden": true
   },
   "outputs": [],
   "source": [
    "batch = np.zeros(nb_colors)\n",
    "sheen_chosen = np.zeros(nb_colors)\n",
    "client_satisfied = np.zeros(len(matte))"
   ]
  },
  {
   "cell_type": "markdown",
   "metadata": {
    "heading_collapsed": true
   },
   "source": [
    "### Procedural"
   ]
  },
  {
   "cell_type": "markdown",
   "metadata": {
    "hidden": true
   },
   "source": [
    "#### Find unique requests"
   ]
  },
  {
   "cell_type": "markdown",
   "metadata": {
    "heading_collapsed": true,
    "hidden": true
   },
   "source": [
    "##### Reduce the colors matrix by rows"
   ]
  },
  {
   "cell_type": "markdown",
   "metadata": {
    "hidden": true
   },
   "source": [
    "rows in colors with a single value\n",
    "⇒ That customer only wants one color and we have to respect his sheen preference"
   ]
  },
  {
   "cell_type": "code",
   "execution_count": null,
   "metadata": {
    "collapsed": false,
    "hidden": true
   },
   "outputs": [],
   "source": [
    "mask_rows = colors.sum(axis=1) == 1\n",
    "mask_rows"
   ]
  },
  {
   "cell_type": "code",
   "execution_count": null,
   "metadata": {
    "collapsed": false,
    "hidden": true
   },
   "outputs": [],
   "source": [
    "colors_with_reduced_rows = colors[mask_rows]\n",
    "colors_with_reduced_rows\n",
    "mask_cols = colors_with_reduced_rows.sum(axis=0) == 1\n",
    "mask_cols"
   ]
  },
  {
   "cell_type": "markdown",
   "metadata": {
    "hidden": true
   },
   "source": [
    "##### reduce the colors matrix by cols"
   ]
  },
  {
   "cell_type": "code",
   "execution_count": null,
   "metadata": {
    "collapsed": false,
    "hidden": true,
    "scrolled": true
   },
   "outputs": [],
   "source": [
    "colors_reduced = colors_with_reduced_rows.loc[:, colors_with_reduced_rows.sum(axis=0) == 1]\n",
    "colors_reduced"
   ]
  },
  {
   "cell_type": "markdown",
   "metadata": {
    "heading_collapsed": true,
    "hidden": true
   },
   "source": [
    "##### Update batch and satisfied"
   ]
  },
  {
   "cell_type": "code",
   "execution_count": null,
   "metadata": {
    "collapsed": false,
    "hidden": true
   },
   "outputs": [],
   "source": [
    "locs = np.where(colors_reduced == 1)\n",
    "for x, y in locs:\n",
    "    row = colors_reduced.index[x]     # client id\n",
    "    col = colors_reduced.columns[y]   # color id\n",
    "    # Set color sheen as chosen\n",
    "    sheen_chosen[col] = 1\n",
    "    # Update color's sheen\n",
    "    sheen = matte.loc[row, col]\n",
    "    batch[col] = sheen\n",
    "    # Set all customers who requested this color/sheen as satisfied\n",
    "    mask = (colors[col] == 1) & (matte[col] == sheen)\n",
    "    for row in colors[mask].index:\n",
    "        client_satisfied[row] = 1"
   ]
  },
  {
   "cell_type": "code",
   "execution_count": null,
   "metadata": {
    "collapsed": false,
    "hidden": true
   },
   "outputs": [],
   "source": [
    "client_satisfied\n",
    "sheen_chosen\n",
    "batch"
   ]
  },
  {
   "cell_type": "markdown",
   "metadata": {
    "hidden": true
   },
   "source": [
    "#### Clear vals from original [wip]"
   ]
  },
  {
   "cell_type": "code",
   "execution_count": null,
   "metadata": {
    "collapsed": false,
    "hidden": true
   },
   "outputs": [],
   "source": [
    "colors\n",
    "matte"
   ]
  },
  {
   "cell_type": "code",
   "execution_count": null,
   "metadata": {
    "collapsed": false,
    "hidden": true
   },
   "outputs": [],
   "source": [
    "mask = colors.iloc[client_satisfied == 0, sheen_chosen == 0] == 1\n",
    "mask\n",
    "matte_reduced = matte.iloc[client_satisfied == 0, sheen_chosen == 0]\n",
    "matte_reduced"
   ]
  },
  {
   "cell_type": "code",
   "execution_count": null,
   "metadata": {
    "collapsed": false,
    "hidden": true
   },
   "outputs": [],
   "source": [
    "aa = matte_reduced[mask]\n",
    "aa.notnull()"
   ]
  },
  {
   "cell_type": "code",
   "execution_count": null,
   "metadata": {
    "collapsed": false,
    "hidden": true
   },
   "outputs": [],
   "source": [
    "matte_reduced[aa.notnull()].min(axis=1)"
   ]
  },
  {
   "cell_type": "markdown",
   "metadata": {
    "heading_collapsed": true
   },
   "source": [
    "### Functional"
   ]
  },
  {
   "cell_type": "markdown",
   "metadata": {
    "hidden": true
   },
   "source": [
    "##### 1st: Reduce uniques"
   ]
  },
  {
   "cell_type": "code",
   "execution_count": null,
   "metadata": {
    "collapsed": true,
    "hidden": true
   },
   "outputs": [],
   "source": [
    "def reduce_uniques(colors, matte, batch, sheen_chosen, client_satisfied):\n",
    "    #print('in reduce_uniques')\n",
    "    # First, reduce data matrix to unsatisfied clients and unchosen sheen colors\n",
    "    colors_reduced = colors.iloc[client_satisfied == 0, sheen_chosen == 0]\n",
    "    matte_reduced = matte.iloc[client_satisfied == 0, sheen_chosen == 0]\n",
    "    \n",
    "    #--------------------------------\n",
    "    # Then, search for unique requests\n",
    "    colors_rows = colors_reduced[colors_reduced.sum(axis=1) == 1]\n",
    "    colors_target = colors_rows.loc[:, colors_rows.sum(axis=0) > 0]\n",
    "    \n",
    "    if colors_target.size == 0:\n",
    "        # No more unique rows to reduce, quit\n",
    "        return batch, sheen_chosen, client_satisfied\n",
    "    \n",
    "    matte_target = matte_reduced.loc[colors_target.index, colors_target.columns]\n",
    "    matte_sum = matte_target.sum()\n",
    "\n",
    "    if (matte_sum[matte_sum != 0] != colors_target.sum()[matte_sum != 0]).any():\n",
    "        # Unique requests have different sheen requirements, impossible to process\n",
    "        raise ValueError('No solution exists')\n",
    "    \n",
    "    # Update batch, sheen_chosen and client_satisfied\n",
    "    locs = np.where(colors_target == 1)\n",
    "    #--------------------------------\n",
    "    \n",
    "    for x, y in zip(*[l.tolist() for l in locs]):\n",
    "        row = colors_target.index[x]     # client id\n",
    "        col = colors_target.columns[y]   # color id\n",
    "        \n",
    "        # Set color sheen as chosen\n",
    "        sheen_chosen[col] = 1\n",
    "        # Update color's sheen\n",
    "        sheen = matte.loc[row, col]\n",
    "        batch[col] = sheen\n",
    "        # Set all customers who requested this color/sheen as satisfied\n",
    "        mask = (colors[col] == 1) & (matte[col] == sheen)\n",
    "        for row in colors[mask].index:\n",
    "            client_satisfied[row] = 1\n",
    "\n",
    "    return reduce_uniques(colors, matte, batch, sheen_chosen, client_satisfied)"
   ]
  },
  {
   "cell_type": "markdown",
   "metadata": {
    "hidden": true
   },
   "source": [
    "##### 2nd: Find glossy requests"
   ]
  },
  {
   "cell_type": "code",
   "execution_count": null,
   "metadata": {
    "collapsed": true,
    "hidden": true
   },
   "outputs": [],
   "source": [
    "def find_glossy(colors, matte, batch, sheen_chosen, client_satisfied):\n",
    "    #print('in find_glossy')\n",
    "    # First, reduce data matrix to unsatisfied clients and unchosen sheen colors\n",
    "    colors_reduced = colors.iloc[client_satisfied == 0, sheen_chosen == 0]\n",
    "    matte_reduced = matte.iloc[client_satisfied == 0, sheen_chosen == 0]\n",
    "    \n",
    "    #-------------------\n",
    "    # Then, search for glossy requests\n",
    "    colors_target = matte_reduced[colors_reduced == 1].dropna(axis=1)\n",
    "        \n",
    "    if colors_target.size == 0:\n",
    "        return batch, sheen_chosen, client_satisfied\n",
    "    \n",
    "    locs = np.where(colors_target == 0)\n",
    "    #--------------------\n",
    "    \n",
    "    for x, y in zip(*[l.tolist() for l in locs]):\n",
    "        row = colors_target.index[x]     # client id\n",
    "        col = colors_target.columns[y]   # color id\n",
    "        \n",
    "        # Set color sheen as chosen\n",
    "        sheen_chosen[col] = 1\n",
    "        # Update color's sheen\n",
    "        sheen = matte.loc[row, col]\n",
    "        batch[col] = sheen\n",
    "        # Set all customers who requested this color/sheen as satisfied\n",
    "        mask = (colors[col] == 1) & (matte[col] == sheen)\n",
    "        for row in colors[mask].index:\n",
    "            client_satisfied[row] = 1\n",
    "            \n",
    "    return find_glossy(colors, matte, batch, sheen_chosen, client_satisfied)"
   ]
  },
  {
   "cell_type": "markdown",
   "metadata": {
    "hidden": true
   },
   "source": [
    "##### 3rd: Find remaining"
   ]
  },
  {
   "cell_type": "code",
   "execution_count": null,
   "metadata": {
    "collapsed": true,
    "hidden": true
   },
   "outputs": [],
   "source": [
    "def find_remaining(colors, matte, batch, sheen_chosen, client_satisfied):\n",
    "    #print('in remaining')\n",
    "    # First, reduce data matrix to unsatisfied clients and unchosen sheen colors\n",
    "    colors_reduced = colors.iloc[client_satisfied == 0, sheen_chosen == 0]\n",
    "    matte_reduced = matte.iloc[client_satisfied == 0, sheen_chosen == 0]\n",
    "    \n",
    "    #--------------------------------\n",
    "    colors_target = matte_reduced[colors_reduced == 1]\n",
    "    \n",
    "    locs = np.where(colors_target == 1)\n",
    "    #--------------------------------\n",
    "    \n",
    "    for x, y in zip(*[l.tolist() for l in locs]):\n",
    "        row = colors_target.index[x]     # client id\n",
    "        col = colors_target.columns[y]   # color id\n",
    "        \n",
    "        # Set color sheen as chosen\n",
    "        sheen_chosen[col] = 1\n",
    "        # Update color's sheen\n",
    "        sheen = matte.loc[row, col]\n",
    "        batch[col] = sheen\n",
    "        # Set all customers who requested this color/sheen as satisfied\n",
    "        mask = (colors[col] == 1) & (matte[col] == sheen)\n",
    "        for row in colors[mask].index:\n",
    "            client_satisfied[row] = 1\n",
    "            \n",
    "    return batch, sheen_chosen, client_satisfied"
   ]
  },
  {
   "cell_type": "markdown",
   "metadata": {
    "hidden": true
   },
   "source": [
    "##### Get batch"
   ]
  },
  {
   "cell_type": "code",
   "execution_count": null,
   "metadata": {
    "collapsed": true,
    "hidden": true
   },
   "outputs": [],
   "source": [
    "def get_batch(nb_colors, requests):\n",
    "    # Create matrices\n",
    "    matte, colors = get_matrix(nb_colors, requests)\n",
    "    #matte = pd.DataFrame(matte, columns=range(nb_colors))\n",
    "    #colors = pd.DataFrame(colors, columns=range(nb_colors))\n",
    "    \n",
    "    # Create vectors\n",
    "    batch = np.zeros(nb_colors)\n",
    "    sheen_chosen = np.zeros(nb_colors)\n",
    "    client_satisfied = np.zeros(len(matte))\n",
    "\n",
    "    # Compute solution\n",
    "    result = reduce_uniques(colors, matte, batch, sheen_chosen, client_satisfied)\n",
    "    result = find_glossy(colors, matte, *result)\n",
    "    batch, sheen_chosen, client_satisfied = find_remaining(colors, matte, *result)\n",
    "    #print('b', batch)\n",
    "    #print('s', sheen_chosen)\n",
    "    #print('c', client_satisfied)\n",
    "    if not client_satisfied.all():\n",
    "        raise ValueError('No solution exists')\n",
    "    else:\n",
    "        return ' '.join(['M' if m else 'G' for m in batch])"
   ]
  },
  {
   "cell_type": "markdown",
   "metadata": {},
   "source": [
    "### Refactored functional"
   ]
  },
  {
   "cell_type": "code",
   "execution_count": 3,
   "metadata": {
    "collapsed": true
   },
   "outputs": [],
   "source": [
    "def locs_for_unique_requests(colors, matte):\n",
    "    colors_rows = colors[colors.sum(axis=1) == 1]\n",
    "    colors_target = colors_rows.loc[:, colors_rows.sum(axis=0) > 0]\n",
    "    if colors_target.size == 0:\n",
    "        # No more unique rows to reduce, quit\n",
    "        return False, False\n",
    "\n",
    "    matte_target = matte.loc[colors_target.index, colors_target.columns]\n",
    "    matte_sum = matte_target.sum()\n",
    "\n",
    "    if (matte_sum[matte_sum != 0] != colors_target.sum()[matte_sum != 0]).any():\n",
    "        # Unique requests have different sheen requirements, impossible to process\n",
    "        raise ValueError('No solution exists')\n",
    "    \n",
    "    # Update batch, sheen_chosen and client_satisfied\n",
    "    locs = np.where(colors_target == 1)\n",
    "    return colors_target, locs\n",
    "\n",
    "def locs_for_glossy(colors, matte):\n",
    "    colors_target = matte[colors == 1].dropna(axis=1)\n",
    "    if colors_target.size == 0:\n",
    "        return False, False\n",
    "    \n",
    "    locs = np.where(colors_target == 0)\n",
    "    return colors_target, locs\n",
    "\n",
    "def locs_for_remaining(colors, matte):\n",
    "    colors_target = matte[colors == 1]\n",
    "    if colors_target.size == 0:\n",
    "        return False, False\n",
    "    locs = np.where(colors_target == 1)\n",
    "    return colors_target, locs\n"
   ]
  },
  {
   "cell_type": "code",
   "execution_count": 22,
   "metadata": {
    "collapsed": true
   },
   "outputs": [],
   "source": [
    "def get_batch2(nb_colors, requests, profile=False):\n",
    "    pcount = 0\n",
    "    # Create matrices\n",
    "    matte, colors = get_matrix(nb_colors, requests)\n",
    "    #print(matte.shape, colors.shape)\n",
    "    \n",
    "    # Create vectors\n",
    "    batch = np.zeros(nb_colors)\n",
    "    sheen_chosen = np.zeros(nb_colors)\n",
    "    client_satisfied = np.zeros(len(matte))\n",
    "    \n",
    "    def compute_iter(f, pcount):\n",
    "        pcount += 1\n",
    "        # reduce data matrix to unsatisfied clients and unchosen sheen colors\n",
    "        colors_reduced = colors.iloc[client_satisfied == 0, sheen_chosen == 0]\n",
    "        matte_reduced = matte.iloc[client_satisfied == 0, sheen_chosen == 0]\n",
    "\n",
    "        # Find targets and locations\n",
    "        colors_target, locs = f(colors_reduced, matte_reduced)\n",
    "        if colors_target is False:\n",
    "            return\n",
    "        #print('in', f.__name__)\n",
    "\n",
    "        for x, y in zip(*[l.tolist() for l in locs]):\n",
    "            pcount += 1\n",
    "            row = colors_target.index[x]     # client id\n",
    "            col = colors_target.columns[y]   # color id\n",
    "\n",
    "            # Set color sheen as chosen\n",
    "            sheen_chosen[col] = 1\n",
    "            # Update color's sheen\n",
    "            sheen = matte.loc[row, col]\n",
    "            batch[col] = sheen\n",
    "            # Set all customers who requested this color/sheen as satisfied\n",
    "            mask = (colors[col] == 1) & (matte[col] == sheen)\n",
    "            for row in colors[mask].index:\n",
    "                pcount += 1\n",
    "                client_satisfied[row] = 1\n",
    "        compute_iter(f, pcount)\n",
    "\n",
    "    # Compute solution\n",
    "    for f in [locs_for_unique_requests, locs_for_glossy, locs_for_remaining]:\n",
    "        pcount += 1\n",
    "        if client_satisfied.all():\n",
    "            break  # solution already found, quit\n",
    "        compute_iter(f, pcount)\n",
    "    \n",
    "    if not client_satisfied.all():\n",
    "        raise ValueError('No solution exists')\n",
    "    else:\n",
    "        if profile:\n",
    "            return pcount\n",
    "        else:\n",
    "            return ' '.join(['M' if m else 'G' for m in batch])"
   ]
  },
  {
   "cell_type": "markdown",
   "metadata": {},
   "source": [
    "### Passing Tests"
   ]
  },
  {
   "cell_type": "code",
   "execution_count": 23,
   "metadata": {
    "collapsed": false
   },
   "outputs": [
    {
     "data": {
      "text/plain": [
       "'G G G G M'"
      ]
     },
     "execution_count": 23,
     "metadata": {},
     "output_type": "execute_result"
    }
   ],
   "source": [
    "nb_colors = 5\n",
    "requests = '''1 M 3 G 5 G\n",
    "5 M\n",
    "2 G 3 M 4 G'''\n",
    "get_batch2(nb_colors, requests)"
   ]
  },
  {
   "cell_type": "code",
   "execution_count": 24,
   "metadata": {
    "collapsed": false
   },
   "outputs": [
    {
     "data": {
      "text/plain": [
       "'G M G M G'"
      ]
     },
     "execution_count": 24,
     "metadata": {},
     "output_type": "execute_result"
    }
   ],
   "source": [
    "nb_colors = 5\n",
    "requests = '''2 M\n",
    "5 G\n",
    "1 G\n",
    "5 G 1 G 4 M\n",
    "3 G\n",
    "5 G\n",
    "3 G 5 G 1 G\n",
    "3 G\n",
    "2 M\n",
    "5 G 1 G\n",
    "2 M\n",
    "5 G\n",
    "4 M\n",
    "5 G 4 M'''\n",
    "get_batch2(nb_colors, requests)"
   ]
  },
  {
   "cell_type": "code",
   "execution_count": 8,
   "metadata": {
    "collapsed": false
   },
   "outputs": [
    {
     "data": {
      "text/plain": [
       "'M M'"
      ]
     },
     "execution_count": 8,
     "metadata": {},
     "output_type": "execute_result"
    }
   ],
   "source": [
    "nb_colors = 2\n",
    "requests = '''1 G 2 M\n",
    "1 M'''\n",
    "get_batch2(nb_colors, requests)"
   ]
  },
  {
   "cell_type": "code",
   "execution_count": 9,
   "metadata": {
    "collapsed": false
   },
   "outputs": [
    {
     "data": {
      "text/plain": [
       "'G G G'"
      ]
     },
     "execution_count": 9,
     "metadata": {},
     "output_type": "execute_result"
    }
   ],
   "source": [
    "nb_colors = 3\n",
    "requests = '''1 M 2 M 3 G\n",
    "1 M 2 G 3 M'''\n",
    "get_batch2(nb_colors, requests)"
   ]
  },
  {
   "cell_type": "code",
   "execution_count": 10,
   "metadata": {
    "collapsed": false
   },
   "outputs": [
    {
     "data": {
      "text/plain": [
       "'M M G'"
      ]
     },
     "execution_count": 10,
     "metadata": {},
     "output_type": "execute_result"
    }
   ],
   "source": [
    "nb_colors = 3\n",
    "requests = '''1 M 2 M 3 G\n",
    "1 M 3 M\n",
    "2 M 3 M'''\n",
    "get_batch2(nb_colors, requests)"
   ]
  },
  {
   "cell_type": "markdown",
   "metadata": {
    "heading_collapsed": true
   },
   "source": [
    "### Failing test"
   ]
  },
  {
   "cell_type": "markdown",
   "metadata": {
    "hidden": true
   },
   "source": [
    "##### bad input"
   ]
  },
  {
   "cell_type": "code",
   "execution_count": null,
   "metadata": {
    "collapsed": false,
    "hidden": true
   },
   "outputs": [],
   "source": [
    "nb_colors = 2\n",
    "requests = '''1M'''\n",
    "\n",
    "get_batch2(nb_colors, requests)"
   ]
  },
  {
   "cell_type": "markdown",
   "metadata": {
    "hidden": true
   },
   "source": [
    "##### no solution"
   ]
  },
  {
   "cell_type": "code",
   "execution_count": null,
   "metadata": {
    "collapsed": false,
    "hidden": true
   },
   "outputs": [],
   "source": [
    "import unittest\n",
    "\n",
    "nb_colors = 1\n",
    "requests = '''1 M\n",
    "1 G'''\n",
    "\n",
    "get_batch2(nb_colors, requests)"
   ]
  },
  {
   "cell_type": "markdown",
   "metadata": {},
   "source": [
    "### Complexity"
   ]
  },
  {
   "cell_type": "markdown",
   "metadata": {},
   "source": [
    "check with timeit"
   ]
  },
  {
   "cell_type": "code",
   "execution_count": 11,
   "metadata": {
    "collapsed": false
   },
   "outputs": [
    {
     "name": "stdout",
     "output_type": "stream",
     "text": [
      "10 loops, best of 3: 14.2 ms per loop\n"
     ]
    }
   ],
   "source": [
    "nb_colors = 5\n",
    "requests = '''2 M\n",
    "5 G\n",
    "1 G\n",
    "5 G 1 G 4 M\n",
    "3 G\n",
    "5 G\n",
    "3 G 5 G 1 G\n",
    "3 G\n",
    "2 M\n",
    "5 G 1 G\n",
    "2 M\n",
    "5 G\n",
    "4 M\n",
    "5 G 4 M'''\n",
    "%timeit get_batch2(nb_colors, requests)"
   ]
  },
  {
   "cell_type": "markdown",
   "metadata": {},
   "source": [
    "Make a data_gen function to randomly output requests"
   ]
  },
  {
   "cell_type": "code",
   "execution_count": null,
   "metadata": {
    "collapsed": true
   },
   "outputs": [],
   "source": [
    "%matplotlib inline\n",
    "import matplotlib.pyplot as plt\n",
    "import random\n",
    "\n",
    "def data_gen(nb_clients, nb_colors):\n",
    "    raw = ''\n",
    "    for _ in range(nb_clients):\n",
    "        nb_choices = random.choice(range(1, nb_colors))\n",
    "        colors = sorted({random.choice(range(nb_colors)) for _ in range(nb_choices)})\n",
    "        request = ['{} {}'.format(i+1, random.choice('GM')) for i in colors]\n",
    "        raw += ' '.join(request) + '\\n'\n",
    "    return raw\n"
   ]
  },
  {
   "cell_type": "markdown",
   "metadata": {},
   "source": [
    "wrap the get_batch function to handle errors"
   ]
  },
  {
   "cell_type": "code",
   "execution_count": null,
   "metadata": {
    "collapsed": true
   },
   "outputs": [],
   "source": [
    "def get_profiled_batch(nb_colors, requests):\n",
    "    try:\n",
    "        return get_batch2(nb_colors, requests, profile=True)\n",
    "    except:\n",
    "        return 0"
   ]
  },
  {
   "cell_type": "markdown",
   "metadata": {},
   "source": [
    "Check complexity per nb of colors (considering 100 clients)"
   ]
  },
  {
   "cell_type": "code",
   "execution_count": null,
   "metadata": {
    "collapsed": false
   },
   "outputs": [],
   "source": [
    "x = range(2, 10)\n",
    "y = [get_profiled_batch(i, data_gen(5, i)) for i in x]\n",
    "plt.plot(x, y)"
   ]
  },
  {
   "cell_type": "code",
   "execution_count": null,
   "metadata": {
    "collapsed": true
   },
   "outputs": [],
   "source": []
  }
 ],
 "metadata": {
  "kernelspec": {
   "display_name": "Python 3",
   "language": "python",
   "name": "python3"
  },
  "language_info": {
   "codemirror_mode": {
    "name": "ipython",
    "version": 3
   },
   "file_extension": ".py",
   "mimetype": "text/x-python",
   "name": "python",
   "nbconvert_exporter": "python",
   "pygments_lexer": "ipython3",
   "version": "3.6.0"
  }
 },
 "nbformat": 4,
 "nbformat_minor": 2
}
